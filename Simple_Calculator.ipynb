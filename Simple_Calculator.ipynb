{
  "nbformat": 4,
  "nbformat_minor": 0,
  "metadata": {
    "colab": {
      "provenance": []
    },
    "kernelspec": {
      "name": "python3",
      "display_name": "Python 3"
    },
    "language_info": {
      "name": "python"
    }
  },
  "cells": [
    {
      "cell_type": "code",
      "source": [
        "def calculate(num1, num2, operation):\n",
        "    if operation == '+':\n",
        "        return num1 + num2\n",
        "    elif operation == '-':\n",
        "        return num1 - num2\n",
        "    elif operation == '*':\n",
        "        return num1 * num2\n",
        "    elif operation == '/':\n",
        "        if num2 != 0:\n",
        "            return num1 / num2\n",
        "        else:\n",
        "            return \"Error! Division by zero.\"\n",
        "    else:\n",
        "        return \"Invalid operation.\"\n",
        "\n",
        "\n",
        "num1 = float(input(\"Enter the first number: \"))\n",
        "num2 = float(input(\"Enter the second number: \"))\n",
        "operation = input(\"Choose an operation (+, -, *, /): \")\n",
        "\n",
        "result = calculate(num1, num2, operation)\n",
        "print(f\"The result is: {result}\")\n"
      ],
      "metadata": {
        "colab": {
          "base_uri": "https://localhost:8080/"
        },
        "id": "-3051SbS6upj",
        "outputId": "ac774434-ba38-4182-ab50-37b2acdf7ec1"
      },
      "execution_count": null,
      "outputs": [
        {
          "output_type": "stream",
          "name": "stdout",
          "text": [
            "Enter the first number: 2\n",
            "Enter the second number: 5\n",
            "Choose an operation (+, -, *, /): *\n",
            "The result is: 10.0\n"
          ]
        }
      ]
    },
    {
      "cell_type": "code",
      "execution_count": null,
      "metadata": {
        "id": "Op-t6jke6sNg"
      },
      "outputs": [],
      "source": []
    }
  ]
}